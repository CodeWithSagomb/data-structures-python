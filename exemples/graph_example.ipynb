{
 "cells": [
  {
   "cell_type": "code",
   "execution_count": null,
   "id": "f38de404",
   "metadata": {},
   "outputs": [],
   "source": []
  },
  {
   "cell_type": "code",
   "execution_count": 1,
   "id": "4d082242",
   "metadata": {},
   "outputs": [],
   "source": [
    "# 📁 To import the module from the parent folder\n",
    "import sys\n",
    "import os\n",
    "\n",
    "current_dir = os.path.dirname(os.path.abspath(\"__file__\"))\n",
    "parent_dir = os.path.abspath(os.path.join(current_dir, \"..\"))\n",
    "sys.path.insert(0, parent_dir)"
   ]
  },
  {
   "cell_type": "code",
   "execution_count": 2,
   "id": "800fa451",
   "metadata": {},
   "outputs": [],
   "source": [
    "from data_structures.graph import Graph"
   ]
  },
  {
   "cell_type": "code",
   "execution_count": null,
   "id": "06967b1a",
   "metadata": {},
   "outputs": [
    {
     "name": "stdout",
     "output_type": "stream",
     "text": [
      "A --> ['B', 'C']\n",
      "B --> ['A', 'C']\n",
      "C --> ['A', 'B', 'D']\n",
      "D --> ['C']\n",
      "Voisins de C: ['A', 'B', 'D']\n"
     ]
    }
   ],
   "source": [
    "\n",
    "#  Import the classe Graph\n",
    "\n",
    "# 🔧 Creating a graphe\n",
    "g = Graph()\n",
    "g.add_vertex(\"A\")\n",
    "g.add_vertex(\"B\")\n",
    "g.add_vertex(\"C\")\n",
    "g.add_edge(\"A\", \"B\")\n",
    "g.add_edge(\"A\", \"C\")\n",
    "g.add_edge(\"B\", \"C\")\n",
    "g.add_edge(\"C\", \"D\")  # \"D\" will be added automatically\n",
    "#  Display a graphe\n",
    "g.display()\n",
    "\n",
    "# 🔍 Get the neighbors of a vertex\n",
    "print(\"Neighbors of C:\", g.get_neighbors(\"C\"))"
   ]
  }
 ],
 "metadata": {
  "kernelspec": {
   "display_name": "venv",
   "language": "python",
   "name": "python3"
  },
  "language_info": {
   "codemirror_mode": {
    "name": "ipython",
    "version": 3
   },
   "file_extension": ".py",
   "mimetype": "text/x-python",
   "name": "python",
   "nbconvert_exporter": "python",
   "pygments_lexer": "ipython3",
   "version": "3.13.2"
  }
 },
 "nbformat": 4,
 "nbformat_minor": 5
}
