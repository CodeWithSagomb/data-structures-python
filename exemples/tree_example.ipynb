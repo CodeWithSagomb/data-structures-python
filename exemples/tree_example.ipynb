{
 "cells": [
  {
   "cell_type": "code",
   "execution_count": 1,
   "id": "772af5a8",
   "metadata": {},
   "outputs": [],
   "source": [
    "import sys\n",
    "import os\n",
    "\n",
    "# Add the folder PATH of the parent(where data_structures is found)\n",
    "current_dir = os.path.dirname(os.path.abspath(\"__file__\"))\n",
    "parent_dir = os.path.abspath(os.path.join(current_dir, \"..\"))\n",
    "sys.path.insert(0, parent_dir)\n",
    "\n",
    " "
   ]
  },
  {
   "cell_type": "code",
   "execution_count": 2,
   "id": "5d2c7386",
   "metadata": {},
   "outputs": [],
   "source": [
    "from data_structures.tree import BinaryTree"
   ]
  },
  {
   "cell_type": "code",
   "execution_count": null,
   "id": "62a9f80b",
   "metadata": {},
   "outputs": [],
   "source": []
  },
  {
   "cell_type": "code",
   "execution_count": 4,
   "id": "1a95a96c",
   "metadata": {},
   "outputs": [
    {
     "name": "stdout",
     "output_type": "stream",
     "text": [
      "Display In-Order : [3, 5, 7, 10, 15]\n"
     ]
    }
   ],
   "source": [
    "\n",
    "bt = BinaryTree()\n",
    "bt.insert(10)\n",
    "bt.insert(5)\n",
    "bt.insert(15)\n",
    "bt.insert(3)\n",
    "bt.insert(7)\n",
    "\n",
    "print(\"Display In-Order :\", bt.display())"
   ]
  },
  {
   "cell_type": "code",
   "execution_count": null,
   "id": "dfeb3ab7",
   "metadata": {},
   "outputs": [],
   "source": []
  }
 ],
 "metadata": {
  "kernelspec": {
   "display_name": "venv",
   "language": "python",
   "name": "python3"
  },
  "language_info": {
   "codemirror_mode": {
    "name": "ipython",
    "version": 3
   },
   "file_extension": ".py",
   "mimetype": "text/x-python",
   "name": "python",
   "nbconvert_exporter": "python",
   "pygments_lexer": "ipython3",
   "version": "3.13.2"
  }
 },
 "nbformat": 4,
 "nbformat_minor": 5
}
